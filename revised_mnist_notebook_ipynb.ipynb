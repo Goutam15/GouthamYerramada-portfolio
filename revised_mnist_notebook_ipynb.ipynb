{
  "cells": [
    {
      "cell_type": "markdown",
      "metadata": {
        "id": "view-in-github",
        "colab_type": "text"
      },
      "source": [
        "<a href=\"https://colab.research.google.com/github/Goutam15/GouthamYerramada-portfolio/blob/main/revised_mnist_notebook_ipynb.ipynb\" target=\"_parent\"><img src=\"https://colab.research.google.com/assets/colab-badge.svg\" alt=\"Open In Colab\"/></a>"
      ]
    },
    {
      "cell_type": "code",
      "execution_count": 1,
      "id": "2703a294",
      "metadata": {
        "colab": {
          "base_uri": "https://localhost:8080/",
          "height": 618
        },
        "id": "2703a294",
        "outputId": "c4350190-e6bb-4283-ead1-198b56f81d00"
      },
      "outputs": [
        {
          "output_type": "display_data",
          "data": {
            "text/plain": [
              "<IPython.core.display.HTML object>"
            ],
            "text/html": [
              "\n",
              "<style>\n",
              "    /* Turns off some styling */\n",
              "    progress {\n",
              "        /* gets rid of default border in Firefox and Opera. */\n",
              "        border: none;\n",
              "        /* Needs to be in here for Safari polyfill so background images work as expected. */\n",
              "        background-size: auto;\n",
              "    }\n",
              "    progress:not([value]), progress:not([value])::-webkit-progress-bar {\n",
              "        background: repeating-linear-gradient(45deg, #7e7e7e, #7e7e7e 10px, #5c5c5c 10px, #5c5c5c 20px);\n",
              "    }\n",
              "    .progress-bar-interrupted, .progress-bar-interrupted::-webkit-progress-bar {\n",
              "        background: #F44336;\n",
              "    }\n",
              "</style>\n"
            ]
          },
          "metadata": {}
        },
        {
          "output_type": "display_data",
          "data": {
            "text/plain": [
              "<IPython.core.display.HTML object>"
            ],
            "text/html": [
              "\n",
              "    <div>\n",
              "      <progress value='3219456' class='' max='3214948' style='width:300px; height:20px; vertical-align: middle;'></progress>\n",
              "      100.14% [3219456/3214948 00:00&lt;00:00]\n",
              "    </div>\n",
              "    "
            ]
          },
          "metadata": {}
        },
        {
          "output_type": "display_data",
          "data": {
            "text/plain": [
              "<Figure size 700x700 with 9 Axes>"
            ],
            "image/png": "[encoded data removed]"
          },
          "metadata": {}
        }
      ],
      "source": [
        "# Load the MNIST dataset and visualize numeric representations of images\n",
        "from fastai.vision.all import *\n",
        "path = untar_data(URLs.MNIST_SAMPLE)\n",
        "dls = ImageDataLoaders.from_folder(path, train='train', valid='valid')\n",
        "dls.show_batch(max_n=9, figsize=(7, 7))\n"
      ]
    },
    {
      "cell_type": "code",
      "source": [],
      "metadata": {
        "id": "Ud9XFAz5YZ7R"
      },
      "id": "Ud9XFAz5YZ7R",
      "execution_count": null,
      "outputs": []
    },
    {
      "cell_type": "markdown",
      "source": [
        "After running the code, the MNIST dataset, which contains grayscale images of handwritten digits, is downloaded and unpacked into organized folders for training and validation. The data is then loaded into data loaders, which handle tasks like batching images, shuffling them for randomness, and normalizing pixel values to ensure consistent input for the model. To give us a sense of what the dataset looks like, a grid of nine randomly chosen images is displayed, each paired with its corresponding label (like \"3\" or \"7\"). This visualization helps confirm that the images and labels are correctly organized and gives us an idea of what the model will be working with. It's a quick and helpful preview of the data before diving into training!"
      ],
      "metadata": {
        "id": "a0Y9TghfXTIb"
      },
      "id": "a0Y9TghfXTIb"
    },
    {
      "cell_type": "code",
      "execution_count": 6,
      "id": "36a5ca44",
      "metadata": {
        "colab": {
          "base_uri": "https://localhost:8080/",
          "height": 80
        },
        "id": "36a5ca44",
        "outputId": "161b0db9-ae9f-4460-b635-69d240524081"
      },
      "outputs": [
        {
          "output_type": "display_data",
          "data": {
            "text/plain": [
              "<IPython.core.display.HTML object>"
            ],
            "text/html": [
              "\n",
              "<style>\n",
              "    /* Turns off some styling */\n",
              "    progress {\n",
              "        /* gets rid of default border in Firefox and Opera. */\n",
              "        border: none;\n",
              "        /* Needs to be in here for Safari polyfill so background images work as expected. */\n",
              "        background-size: auto;\n",
              "    }\n",
              "    progress:not([value]), progress:not([value])::-webkit-progress-bar {\n",
              "        background: repeating-linear-gradient(45deg, #7e7e7e, #7e7e7e 10px, #5c5c5c 10px, #5c5c5c 20px);\n",
              "    }\n",
              "    .progress-bar-interrupted, .progress-bar-interrupted::-webkit-progress-bar {\n",
              "        background: #F44336;\n",
              "    }\n",
              "</style>\n"
            ]
          },
          "metadata": {}
        },
        {
          "output_type": "display_data",
          "data": {
            "text/plain": [
              "<IPython.core.display.HTML object>"
            ],
            "text/html": [
              "<table border=\"1\" class=\"dataframe\">\n",
              "  <thead>\n",
              "    <tr style=\"text-align: left;\">\n",
              "      <th>epoch</th>\n",
              "      <th>train_loss</th>\n",
              "      <th>valid_loss</th>\n",
              "      <th>accuracy</th>\n",
              "      <th>time</th>\n",
              "    </tr>\n",
              "  </thead>\n",
              "  <tbody>\n",
              "    <tr>\n",
              "      <td>0</td>\n",
              "      <td>0.072183</td>\n",
              "      <td>0.012934</td>\n",
              "      <td>0.997056</td>\n",
              "      <td>00:15</td>\n",
              "    </tr>\n",
              "  </tbody>\n",
              "</table>"
            ]
          },
          "metadata": {}
        }
      ],
      "source": [
        "# Create and train a model using stochastic gradient descent\n",
        "learn = vision_learner(dls, resnet18, pretrained=False, metrics=accuracy)\n",
        "learn.fit_one_cycle(1, 0.1)\n"
      ]
    },
    {
      "cell_type": "markdown",
      "source": [
        "After the first training epoch, the model shown me excellent performance. The training loss is `0.072183`, indicating that the model is learning the patterns in the training data effectively, while the validation loss is even lower at `0.012934`, suggesting good generalization to unseen data. The accuracy on the validation set is an impressive `99.71%`, meaning the model correctly predicted almost all the validation samples. The entire training process for this epoch took just 15 seconds, demonstrating both efficiency and effectiveness in the training process."
      ],
      "metadata": {
        "id": "EYQxHdUhaSW4"
      },
      "id": "EYQxHdUhaSW4"
    },
    {
      "cell_type": "code",
      "execution_count": 7,
      "id": "96415ba4",
      "metadata": {
        "colab": {
          "base_uri": "https://localhost:8080/",
          "height": 447
        },
        "id": "96415ba4",
        "outputId": "51d52d32-dfb0-4cfa-bc34-88006659aa53"
      },
      "outputs": [
        {
          "output_type": "display_data",
          "data": {
            "text/plain": [
              "<IPython.core.display.HTML object>"
            ],
            "text/html": [
              "\n",
              "<style>\n",
              "    /* Turns off some styling */\n",
              "    progress {\n",
              "        /* gets rid of default border in Firefox and Opera. */\n",
              "        border: none;\n",
              "        /* Needs to be in here for Safari polyfill so background images work as expected. */\n",
              "        background-size: auto;\n",
              "    }\n",
              "    progress:not([value]), progress:not([value])::-webkit-progress-bar {\n",
              "        background: repeating-linear-gradient(45deg, #7e7e7e, #7e7e7e 10px, #5c5c5c 10px, #5c5c5c 20px);\n",
              "    }\n",
              "    .progress-bar-interrupted, .progress-bar-interrupted::-webkit-progress-bar {\n",
              "        background: #F44336;\n",
              "    }\n",
              "</style>\n"
            ]
          },
          "metadata": {}
        },
        {
          "output_type": "display_data",
          "data": {
            "text/plain": [
              "<IPython.core.display.HTML object>"
            ],
            "text/html": []
          },
          "metadata": {}
        },
        {
          "output_type": "stream",
          "name": "stdout",
          "text": [
            "Prediction: 3, Probability: 1.0000\n"
          ]
        },
        {
          "output_type": "display_data",
          "data": {
            "text/plain": [
              "<Figure size 640x480 with 1 Axes>"
            ],
            "image/png": "[encoded data removed]"
          },
          "metadata": {}
        }
      ],
      "source": [
        "# Make and display a prediction for a sample image\n",
        "img = PILImage.create(get_image_files(path/'valid/3')[0])  # Load a sample image\n",
        "plt.imshow(img)  # Display the image\n",
        "pred, pred_idx, probs = learn.predict(img)  # Predict the class\n",
        "print(f\"Prediction: {pred}, Probability: {probs[pred_idx]:.4f}\")  # Display the prediction\n"
      ]
    },
    {
      "cell_type": "markdown",
      "source": [
        " The model makes and displays a prediction for a single image. First, an image is selected from the validation set using `PILImage.create`, specifically an image labeled as a \"3.\" The image is then displayed using `plt.imshow`, allowing us to visually confirm what the model is being asked to classify. Next, the trained model predicts the class of the image using the `learn.predict` method. This method returns the predicted class (`pred`), its index (`pred_idx`), and the probabilities for all possible classes (`probs`). Finally, the code prints the predicted class along with its probability, showing the model's confidence in its prediction. This process helps us validate the model's ability to accurately classify individual images."
      ],
      "metadata": {
        "id": "VGii8LXCaiev"
      },
      "id": "VGii8LXCaiev"
    }
  ],
  "metadata": {
    "colab": {
      "provenance": [],
      "gpuType": "T4",
      "include_colab_link": true
    },
    "language_info": {
      "name": "python"
    },
    "kernelspec": {
      "name": "python3",
      "display_name": "Python 3"
    },
    "accelerator": "GPU"
  },
  "nbformat": 4,
  "nbformat_minor": 5
}